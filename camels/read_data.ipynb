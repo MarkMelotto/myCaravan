{
 "cells": [
  {
   "cell_type": "code",
   "id": "initial_id",
   "metadata": {
    "collapsed": true,
    "ExecuteTime": {
     "end_time": "2025-09-19T08:35:04.634417Z",
     "start_time": "2025-09-19T08:35:04.301317Z"
    }
   },
   "source": [
    "import pandas as pd\n",
    "import os\n",
    "from pathlib import Path\n",
    "import xarray as xr\n",
    "\n",
    "from read_data import rename_camels_files_nc, rename_camels_files_csv"
   ],
   "outputs": [],
   "execution_count": 1
  },
  {
   "metadata": {
    "ExecuteTime": {
     "end_time": "2025-09-19T09:31:50.783538Z",
     "start_time": "2025-09-19T09:31:48.631815Z"
    }
   },
   "cell_type": "code",
   "source": "ds = rename_camels_files_nc()\n",
   "id": "f6eef6003a792bb2",
   "outputs": [],
   "execution_count": 3
  },
  {
   "metadata": {
    "ExecuteTime": {
     "end_time": "2025-09-19T09:31:53.723250Z",
     "start_time": "2025-09-19T09:31:53.716175Z"
    }
   },
   "cell_type": "code",
   "source": "ds.data_vars",
   "id": "404581ed4e13cf59",
   "outputs": [
    {
     "data": {
      "text/plain": [
       "Data variables:\n",
       "    snow_depth_water_equivalent_mean               (gauge_id, date) float32 13MB ...\n",
       "    surface_net_solar_radiation_mean               (gauge_id, date) float32 13MB ...\n",
       "    surface_net_thermal_radiation_mean             (gauge_id, date) float32 13MB ...\n",
       "    surface_pressure_mean                          (gauge_id, date) float32 13MB ...\n",
       "    temperature_2m_mean                            (gauge_id, date) float32 13MB ...\n",
       "    dewpoint_temperature_2m_mean                   (gauge_id, date) float32 13MB ...\n",
       "    u_component_of_wind_10m_mean                   (gauge_id, date) float32 13MB ...\n",
       "    v_component_of_wind_10m_mean                   (gauge_id, date) float32 13MB ...\n",
       "    volumetric_soil_water_layer_1_mean             (gauge_id, date) float32 13MB ...\n",
       "    volumetric_soil_water_layer_2_mean             (gauge_id, date) float32 13MB ...\n",
       "    volumetric_soil_water_layer_3_mean             (gauge_id, date) float32 13MB ...\n",
       "    volumetric_soil_water_layer_4_mean             (gauge_id, date) float32 13MB ...\n",
       "    snow_depth_water_equivalent_min                (gauge_id, date) float32 13MB ...\n",
       "    surface_net_solar_radiation_min                (gauge_id, date) float32 13MB ...\n",
       "    surface_net_thermal_radiation_min              (gauge_id, date) float32 13MB ...\n",
       "    surface_pressure_min                           (gauge_id, date) float32 13MB ...\n",
       "    temperature_2m_min                             (gauge_id, date) float32 13MB ...\n",
       "    dewpoint_temperature_2m_min                    (gauge_id, date) float32 13MB ...\n",
       "    u_component_of_wind_10m_min                    (gauge_id, date) float32 13MB ...\n",
       "    v_component_of_wind_10m_min                    (gauge_id, date) float32 13MB ...\n",
       "    volumetric_soil_water_layer_1_min              (gauge_id, date) float32 13MB ...\n",
       "    volumetric_soil_water_layer_2_min              (gauge_id, date) float32 13MB ...\n",
       "    volumetric_soil_water_layer_3_min              (gauge_id, date) float32 13MB ...\n",
       "    volumetric_soil_water_layer_4_min              (gauge_id, date) float32 13MB ...\n",
       "    snow_depth_water_equivalent_max                (gauge_id, date) float32 13MB ...\n",
       "    surface_net_solar_radiation_max                (gauge_id, date) float32 13MB ...\n",
       "    surface_net_thermal_radiation_max              (gauge_id, date) float32 13MB ...\n",
       "    surface_pressure_max                           (gauge_id, date) float32 13MB ...\n",
       "    temperature_2m_max                             (gauge_id, date) float32 13MB ...\n",
       "    dewpoint_temperature_2m_max                    (gauge_id, date) float32 13MB ...\n",
       "    u_component_of_wind_10m_max                    (gauge_id, date) float32 13MB ...\n",
       "    v_component_of_wind_10m_max                    (gauge_id, date) float32 13MB ...\n",
       "    volumetric_soil_water_layer_1_max              (gauge_id, date) float32 13MB ...\n",
       "    volumetric_soil_water_layer_2_max              (gauge_id, date) float32 13MB ...\n",
       "    volumetric_soil_water_layer_3_max              (gauge_id, date) float32 13MB ...\n",
       "    volumetric_soil_water_layer_4_max              (gauge_id, date) float32 13MB ...\n",
       "    total_precipitation_sum                        (gauge_id, date) float32 13MB ...\n",
       "    potential_evaporation_sum_ERA5_LAND            (gauge_id, date) float32 13MB ...\n",
       "    potential_evaporation_sum_FAO_PENMAN_MONTEITH  (gauge_id, date) float32 13MB ...\n",
       "    streamflow                                     (gauge_id, date) float32 13MB ..."
      ]
     },
     "execution_count": 4,
     "metadata": {},
     "output_type": "execute_result"
    }
   ],
   "execution_count": 4
  },
  {
   "metadata": {
    "ExecuteTime": {
     "end_time": "2025-09-19T11:57:45.839491Z",
     "start_time": "2025-09-19T11:57:45.837067Z"
    }
   },
   "cell_type": "code",
   "source": "print(ds.attrs['Units'])",
   "id": "e54aa2d92346f31e",
   "outputs": [
    {
     "name": "stdout",
     "output_type": "stream",
     "text": [
      "potential_evaporation_sum_ERA5_LAND: Potential Evaporation [mm] (original potential_evaporation from ERA5-Land)\n",
      "potential_evaporation_sum_FAO_PENMAN_MONTEITH: Potential Evaporation [mm] (FAO Penman-Monteith computed from ERA5-Land inputs)\n",
      "snow_depth_water_equivalent: ERA5-Land Snow-Water-Equivalent [mm]\n",
      "streamflow: Observed streamflow [mm/d]\n",
      "surface_net_solar_radiation: Surface net solar radiation [W/m2]\n",
      "surface_net_thermal_radiation: Surface net thermal radiation [W/m2]\n",
      "surface_pressure: Surface pressure [kPa]\n",
      "temperature_2m: 2m air temperature [°C]\n",
      "total_precipitation: Total precipitation [mm]\n",
      "u_component_of_wind_10m: U-component of wind at 10m [m/s]\n",
      "v_component_of_wind_10m: V-component of wind at 10m [m/s]\n",
      "volumetric_soil_water_layer_1: ERA5-Land volumetric soil water layer 1 (0-7cm) [m3/m3]\n",
      "volumetric_soil_water_layer_2: ERA5-Land volumetric soil water layer 2 (7-28cm) [m3/m3]\n",
      "volumetric_soil_water_layer_3: ERA5-Land volumetric soil water layer 3 (28-100cm) [m3/m3]\n",
      "volumetric_soil_water_layer_4: ERA5-Land volumetric soil water layer 4 (100-289cm) [m3/m3]\n",
      "\n"
     ]
    }
   ],
   "execution_count": 12
  },
  {
   "metadata": {},
   "cell_type": "code",
   "outputs": [],
   "execution_count": null,
   "source": "",
   "id": "a0a66ce8c87fb12d"
  }
 ],
 "metadata": {
  "kernelspec": {
   "display_name": "Python 3",
   "language": "python",
   "name": "python3"
  },
  "language_info": {
   "codemirror_mode": {
    "name": "ipython",
    "version": 2
   },
   "file_extension": ".py",
   "mimetype": "text/x-python",
   "name": "python",
   "nbconvert_exporter": "python",
   "pygments_lexer": "ipython2",
   "version": "2.7.6"
  }
 },
 "nbformat": 4,
 "nbformat_minor": 5
}
